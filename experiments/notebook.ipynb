{
 "cells": [
  {
   "cell_type": "markdown",
   "metadata": {},
   "source": [
    "# Welcome to the notebook!"
   ]
  },
  {
   "cell_type": "code",
   "execution_count": 4,
   "metadata": {},
   "outputs": [
    {
     "name": "stdout",
     "output_type": "stream",
     "text": [
      "env: FCC_ENVIRONMENT=TESTING\n"
     ]
    }
   ],
   "source": [
    "import tests; tests.prepare(globals(), In);\n",
    "import test_runner; runner = test_runner.TestRunner()"
   ]
  },
  {
   "cell_type": "code",
   "execution_count": 5,
   "metadata": {},
   "outputs": [
    {
     "ename": "AssertionError",
     "evalue": "single quotes please!",
     "output_type": "error",
     "traceback": [
      "\u001b[0;31m---------------------------------------------------------------------------\u001b[0m",
      "\u001b[0;31mAssertionError\u001b[0m                            Traceback (most recent call last)",
      "\u001b[1;32m/media/external/Code/fcc/math/experiments/notebook.ipynb Cell 3'\u001b[0m in \u001b[0;36m<cell line: 2>\u001b[0;34m()\u001b[0m\n\u001b[1;32m      <a href='vscode-notebook-cell:/media/external/Code/fcc/math/experiments/notebook.ipynb#ch0000002?line=0'>1</a>\u001b[0m var \u001b[39m=\u001b[39m \u001b[39m\"\u001b[39m\u001b[39mdemo\u001b[39m\u001b[39m\"\u001b[39m\n\u001b[0;32m----> <a href='vscode-notebook-cell:/media/external/Code/fcc/math/experiments/notebook.ipynb#ch0000002?line=1'>2</a>\u001b[0m runner\u001b[39m.\u001b[39;49mrun(tests\u001b[39m.\u001b[39;49mstep01)\n",
      "File \u001b[0;32m/media/external/Code/fcc/math/experiments/test_runner.py:17\u001b[0m, in \u001b[0;36mTestRunner.run\u001b[0;34m(self, fn)\u001b[0m\n\u001b[1;32m     <a href='file:///media/external/Code/fcc/math/experiments/test_runner.py?line=14'>15</a>\u001b[0m         \u001b[39mprint\u001b[39m(\u001b[39m\"\u001b[39m\u001b[39mError:\u001b[39m\u001b[39m\"\u001b[39m, e\u001b[39m.\u001b[39margs[\u001b[39m0\u001b[39m])\n\u001b[1;32m     <a href='file:///media/external/Code/fcc/math/experiments/test_runner.py?line=15'>16</a>\u001b[0m \u001b[39melse\u001b[39;00m:\n\u001b[0;32m---> <a href='file:///media/external/Code/fcc/math/experiments/test_runner.py?line=16'>17</a>\u001b[0m     fn()\n",
      "File \u001b[0;32m/media/external/Code/fcc/math/experiments/tests.py:6\u001b[0m, in \u001b[0;36mstep01\u001b[0;34m()\u001b[0m\n\u001b[1;32m      <a href='file:///media/external/Code/fcc/math/experiments/tests.py?line=3'>4</a>\u001b[0m \u001b[39mdef\u001b[39;00m \u001b[39mstep01\u001b[39m():\n\u001b[1;32m      <a href='file:///media/external/Code/fcc/math/experiments/tests.py?line=4'>5</a>\u001b[0m     \u001b[39massert\u001b[39;00m user_env\u001b[39m.\u001b[39mgetVariable(\u001b[39m\"\u001b[39m\u001b[39mvar\u001b[39m\u001b[39m\"\u001b[39m) \u001b[39m==\u001b[39m \u001b[39m\"\u001b[39m\u001b[39mdemo\u001b[39m\u001b[39m\"\u001b[39m, \u001b[39m\"\u001b[39m\u001b[39mvar should contain the \u001b[39m\u001b[39m'\u001b[39m\u001b[39mdemo\u001b[39m\u001b[39m'\u001b[39m\u001b[39m string!\u001b[39m\u001b[39m\"\u001b[39m\n\u001b[0;32m----> <a href='file:///media/external/Code/fcc/math/experiments/tests.py?line=5'>6</a>\u001b[0m     \u001b[39massert\u001b[39;00m re\u001b[39m.\u001b[39msearch(\u001b[39m\"\u001b[39m\u001b[39m'\u001b[39m\u001b[39m\\\u001b[39m\u001b[39mw*\u001b[39m\u001b[39m'\u001b[39m\u001b[39m\"\u001b[39m, user_env\u001b[39m.\u001b[39mgetCode()), \u001b[39m'\u001b[39m\u001b[39msingle quotes please!\u001b[39m\u001b[39m'\u001b[39m\n\u001b[1;32m      <a href='file:///media/external/Code/fcc/math/experiments/tests.py?line=6'>7</a>\u001b[0m     \u001b[39mprint\u001b[39m(\u001b[39m\"\u001b[39m\u001b[39mStep 01: Success!\u001b[39m\u001b[39m\"\u001b[39m)\n",
      "\u001b[0;31mAssertionError\u001b[0m: single quotes please!"
     ]
    }
   ],
   "source": [
    "var = \"demo\"\n",
    "runner.run(tests.step01)"
   ]
  },
  {
   "cell_type": "code",
   "execution_count": null,
   "metadata": {},
   "outputs": [
    {
     "name": "stdout",
     "output_type": "stream",
     "text": [
      "Step 01: Success!\n"
     ]
    }
   ],
   "source": [
    "var = 'demo'\n",
    "runner.run(tests.step01)"
   ]
  }
 ],
 "metadata": {
  "interpreter": {
   "hash": "916dbcbb3f70747c44a77c7bcd40155683ae19c65e1c03b4aa3499c5328201f1"
  },
  "kernelspec": {
   "display_name": "Python 3.8.10 64-bit",
   "language": "python",
   "name": "python3"
  },
  "language_info": {
   "codemirror_mode": {
    "name": "ipython",
    "version": 3
   },
   "file_extension": ".py",
   "mimetype": "text/x-python",
   "name": "python",
   "nbconvert_exporter": "python",
   "pygments_lexer": "ipython3",
   "version": "3.8.10"
  },
  "orig_nbformat": 4
 },
 "nbformat": 4,
 "nbformat_minor": 2
}
